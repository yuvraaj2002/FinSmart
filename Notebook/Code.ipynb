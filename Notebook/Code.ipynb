{
 "cells": [
  {
   "cell_type": "code",
   "execution_count": 17,
   "metadata": {},
   "outputs": [],
   "source": [
    "try:\n",
    "    from urllib.request import urlopen\n",
    "except ImportError:\n",
    "    from urllib2 import urlopen\n",
    "import certifi\n",
    "import json\n",
    "import pandas as pd\n",
    "from src.logger import logging\n",
    "from rich import print"
   ]
  },
  {
   "cell_type": "code",
   "execution_count": 18,
   "metadata": {},
   "outputs": [
    {
     "name": "stderr",
     "output_type": "stream",
     "text": [
      "C:\\Users\\ropar_i9941t3\\AppData\\Local\\Temp\\ipykernel_14104\\527159306.py:18: DeprecationWarning: cafile, capath and cadefault are deprecated, use a custom context instead.\n",
      "  response = urlopen(url, cafile=certifi.where())\n"
     ]
    },
    {
     "data": {
      "text/html": [
       "<div>\n",
       "<style scoped>\n",
       "    .dataframe tbody tr th:only-of-type {\n",
       "        vertical-align: middle;\n",
       "    }\n",
       "\n",
       "    .dataframe tbody tr th {\n",
       "        vertical-align: top;\n",
       "    }\n",
       "\n",
       "    .dataframe thead th {\n",
       "        text-align: right;\n",
       "    }\n",
       "</style>\n",
       "<table border=\"1\" class=\"dataframe\">\n",
       "  <thead>\n",
       "    <tr style=\"text-align: right;\">\n",
       "      <th></th>\n",
       "      <th>symbol</th>\n",
       "      <th>name</th>\n",
       "      <th>price</th>\n",
       "      <th>changesPercentage</th>\n",
       "      <th>change</th>\n",
       "      <th>dayLow</th>\n",
       "      <th>dayHigh</th>\n",
       "      <th>yearHigh</th>\n",
       "      <th>yearLow</th>\n",
       "      <th>marketCap</th>\n",
       "      <th>...</th>\n",
       "      <th>exchange</th>\n",
       "      <th>volume</th>\n",
       "      <th>avgVolume</th>\n",
       "      <th>open</th>\n",
       "      <th>previousClose</th>\n",
       "      <th>eps</th>\n",
       "      <th>pe</th>\n",
       "      <th>earningsAnnouncement</th>\n",
       "      <th>sharesOutstanding</th>\n",
       "      <th>timestamp</th>\n",
       "    </tr>\n",
       "  </thead>\n",
       "  <tbody>\n",
       "    <tr>\n",
       "      <th>0</th>\n",
       "      <td>MSFT</td>\n",
       "      <td>Microsoft Corporation</td>\n",
       "      <td>416.32</td>\n",
       "      <td>0.1154</td>\n",
       "      <td>0.48</td>\n",
       "      <td>413.27</td>\n",
       "      <td>417.1099</td>\n",
       "      <td>468.35</td>\n",
       "      <td>324.39</td>\n",
       "      <td>3094523212800</td>\n",
       "      <td>...</td>\n",
       "      <td>NASDAQ</td>\n",
       "      <td>14059961</td>\n",
       "      <td>19964053</td>\n",
       "      <td>416.135</td>\n",
       "      <td>415.84</td>\n",
       "      <td>11.81</td>\n",
       "      <td>35.25</td>\n",
       "      <td>2024-10-22T00:00:00.000+0000</td>\n",
       "      <td>7433040000</td>\n",
       "      <td>1728676801</td>\n",
       "    </tr>\n",
       "  </tbody>\n",
       "</table>\n",
       "<p>1 rows × 22 columns</p>\n",
       "</div>"
      ],
      "text/plain": [
       "  symbol                   name   price  changesPercentage  change  dayLow  \\\n",
       "0   MSFT  Microsoft Corporation  416.32             0.1154    0.48  413.27   \n",
       "\n",
       "    dayHigh  yearHigh  yearLow      marketCap  ...  exchange    volume  \\\n",
       "0  417.1099    468.35   324.39  3094523212800  ...    NASDAQ  14059961   \n",
       "\n",
       "  avgVolume     open  previousClose    eps     pe  \\\n",
       "0  19964053  416.135         415.84  11.81  35.25   \n",
       "\n",
       "           earningsAnnouncement  sharesOutstanding   timestamp  \n",
       "0  2024-10-22T00:00:00.000+0000         7433040000  1728676801  \n",
       "\n",
       "[1 rows x 22 columns]"
      ]
     },
     "execution_count": 18,
     "metadata": {},
     "output_type": "execute_result"
    }
   ],
   "source": [
    "def get_jsonparsed_data(url, api_key, exchange, ticker):\n",
    "    \"\"\"\n",
    "    Fetches and parses JSON data from Financial Modeling Prep API based on the exchange and ticker symbol.\n",
    "\n",
    "    Parameters:\n",
    "    - url (str): The base URL for the API request.\n",
    "    - api_key (str): The API key for authentication.\n",
    "    - exchange (str): The stock exchange to query (e.g., \"NSE\" for National Stock Exchange of India).\n",
    "    - ticker (str): The ticker symbol of the stock to query.\n",
    "\n",
    "    Returns:\n",
    "    - dict: The parsed JSON data from the API response.\n",
    "    \"\"\"\n",
    "    if exchange == \"NSE\":\n",
    "        url = f\"https://financialmodelingprep.com/api/v3/search?query={ticker}&exchange=NSE&apikey={api_key}\"\n",
    "    else:\n",
    "        url = f\"https://financialmodelingprep.com/api/v3/quote/{ticker}?apikey={api_key}\"\n",
    "    response = urlopen(url, cafile=certifi.where())\n",
    "    data = response.read().decode(\"utf-8\")\n",
    "    return json.loads(data)\n",
    "\n",
    "api_key=\"C1HRSweTniWdBuLmTTse9w8KpkoiouM5\"\n",
    "ticker = \"MSFT\"\n",
    "exchange = \"US\"\n",
    "eco_ind = pd.DataFrame(get_jsonparsed_data(ticker, api_key, exchange, ticker))\n",
    "logging.info(\"Loaded the dataframe\")\n",
    "\n",
    "# Checking the dataframe\n",
    "eco_ind"
   ]
  },
  {
   "cell_type": "code",
   "execution_count": 19,
   "metadata": {},
   "outputs": [
    {
     "name": "stdout",
     "output_type": "stream",
     "text": [
      "<class 'pandas.core.frame.DataFrame'>\n",
      "RangeIndex: 1 entries, 0 to 0\n",
      "Data columns (total 22 columns):\n",
      " #   Column                Non-Null Count  Dtype  \n",
      "---  ------                --------------  -----  \n",
      " 0   symbol                1 non-null      object \n",
      " 1   name                  1 non-null      object \n",
      " 2   price                 1 non-null      float64\n",
      " 3   changesPercentage     1 non-null      float64\n",
      " 4   change                1 non-null      float64\n",
      " 5   dayLow                1 non-null      float64\n",
      " 6   dayHigh               1 non-null      float64\n",
      " 7   yearHigh              1 non-null      float64\n",
      " 8   yearLow               1 non-null      float64\n",
      " 9   marketCap             1 non-null      int64  \n",
      " 10  priceAvg50            1 non-null      float64\n",
      " 11  priceAvg200           1 non-null      float64\n",
      " 12  exchange              1 non-null      object \n",
      " 13  volume                1 non-null      int64  \n",
      " 14  avgVolume             1 non-null      int64  \n",
      " 15  open                  1 non-null      float64\n",
      " 16  previousClose         1 non-null      float64\n",
      " 17  eps                   1 non-null      float64\n",
      " 18  pe                    1 non-null      float64\n",
      " 19  earningsAnnouncement  1 non-null      object \n",
      " 20  sharesOutstanding     1 non-null      int64  \n",
      " 21  timestamp             1 non-null      int64  \n",
      "dtypes: float64(13), int64(5), object(4)\n",
      "memory usage: 308.0+ bytes\n"
     ]
    },
    {
     "data": {
      "text/html": [
       "<pre style=\"white-space:pre;overflow-x:auto;line-height:normal;font-family:Menlo,'DejaVu Sans Mono',consolas,'Courier New',monospace\"><span style=\"color: #800080; text-decoration-color: #800080; font-style: italic\">None</span>\n",
       "</pre>\n"
      ],
      "text/plain": [
       "\u001b[3;35mNone\u001b[0m\n"
      ]
     },
     "metadata": {},
     "output_type": "display_data"
    }
   ],
   "source": [
    "# Getting the information about the dataframe columns\n",
    "print(eco_ind.info())"
   ]
  },
  {
   "cell_type": "code",
   "execution_count": 22,
   "metadata": {},
   "outputs": [
    {
     "name": "stderr",
     "output_type": "stream",
     "text": [
      "<>:13: SyntaxWarning: invalid escape sequence '\\e'\n",
      "<>:13: SyntaxWarning: invalid escape sequence '\\e'\n",
      "C:\\Users\\ropar_i9941t3\\AppData\\Local\\Temp\\ipykernel_14104\\4274072908.py:13: SyntaxWarning: invalid escape sequence '\\e'\n",
      "  df.to_csv(f\"{csv_path}\\eco_ind.csv\")\n"
     ]
    }
   ],
   "source": [
    "def preprocess_economic_data(df,csv_path):\n",
    "    \"\"\"\n",
    "    Preprocesses the economic data DataFrame by converting 'timestamp' and 'earningsAnnouncement' columns to datetime format.\n",
    "\n",
    "    Parameters:\n",
    "    - df (pd.DataFrame): The DataFrame containing economic data.\n",
    "\n",
    "    Returns:\n",
    "    - pd.DataFrame: The preprocessed DataFrame with 'timestamp' and 'earningsAnnouncement' columns converted to datetime format.\n",
    "    \"\"\"\n",
    "    df['timestamp'] = pd.to_datetime(df['timestamp'])\n",
    "    df['earningsAnnouncement'] = pd.to_datetime(df['earningsAnnouncement'])\n",
    "    df.to_csv(f\"{csv_path}\\eco_ind.csv\")\n",
    "\n",
    "# Defining the path to store the csv file\n",
    "csv_path = r\"D:\\Projects\\FinSmart\\Data\"\n",
    "preprocess_economic_data(eco_ind,csv_path)\n",
    "logging.info(\"Saved the processed csv file\")"
   ]
  },
  {
   "cell_type": "code",
   "execution_count": null,
   "metadata": {},
   "outputs": [],
   "source": []
  }
 ],
 "metadata": {
  "kernelspec": {
   "display_name": ".venv",
   "language": "python",
   "name": "python3"
  },
  "language_info": {
   "codemirror_mode": {
    "name": "ipython",
    "version": 3
   },
   "file_extension": ".py",
   "mimetype": "text/x-python",
   "name": "python",
   "nbconvert_exporter": "python",
   "pygments_lexer": "ipython3",
   "version": "3.12.4"
  }
 },
 "nbformat": 4,
 "nbformat_minor": 2
}
